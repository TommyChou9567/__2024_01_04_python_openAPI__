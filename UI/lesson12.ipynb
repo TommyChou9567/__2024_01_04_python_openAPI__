{
 "cells": [
  {
   "cell_type": "code",
   "execution_count": 15,
   "metadata": {},
   "outputs": [
    {
     "name": "stdout",
     "output_type": "stream",
     "text": [
      "下載成功\n",
      "[{'date': '2024-1-26 8:56:34', 'address': 'chicken_KFC', 'temperature': 21.89482, 'light': 43802.0}, {'date': '2024-1-26 9:11:36', 'address': 'chicken_KFC', 'temperature': 23.76739, 'light': 45115.0}, {'date': '2024-1-26 10:41:21', 'address': 'chicken_KFC', 'temperature': 22.36296, 'light': 45067.0}]\n"
     ]
    }
   ],
   "source": [
    "import requests\n",
    "\n",
    "url = 'https://openapi-pico-jrib.onrender.com/pico_w/?count=3\n",
    "'\n",
    "\n",
    "\n",
    "r = requests.get(url=url)\n",
    "\n",
    "if r.status_code == 200:\n",
    "    print(\"下載成功\")\n",
    "    data = r.json()\n",
    "\n",
    "print(data)"
   ]
  },
  {
   "cell_type": "code",
   "execution_count": 16,
   "metadata": {},
   "outputs": [
    {
     "data": {
      "text/html": [
       "<div>\n",
       "<style scoped>\n",
       "    .dataframe tbody tr th:only-of-type {\n",
       "        vertical-align: middle;\n",
       "    }\n",
       "\n",
       "    .dataframe tbody tr th {\n",
       "        vertical-align: top;\n",
       "    }\n",
       "\n",
       "    .dataframe thead th {\n",
       "        text-align: right;\n",
       "    }\n",
       "</style>\n",
       "<table border=\"1\" class=\"dataframe\">\n",
       "  <thead>\n",
       "    <tr style=\"text-align: right;\">\n",
       "      <th></th>\n",
       "      <th>date</th>\n",
       "      <th>address</th>\n",
       "      <th>temperature</th>\n",
       "      <th>light</th>\n",
       "    </tr>\n",
       "  </thead>\n",
       "  <tbody>\n",
       "    <tr>\n",
       "      <th>0</th>\n",
       "      <td>2024-1-26 8:56:34</td>\n",
       "      <td>chicken_KFC</td>\n",
       "      <td>21.89482</td>\n",
       "      <td>43802.0</td>\n",
       "    </tr>\n",
       "    <tr>\n",
       "      <th>1</th>\n",
       "      <td>2024-1-26 9:11:36</td>\n",
       "      <td>chicken_KFC</td>\n",
       "      <td>23.76739</td>\n",
       "      <td>45115.0</td>\n",
       "    </tr>\n",
       "    <tr>\n",
       "      <th>2</th>\n",
       "      <td>2024-1-26 10:41:21</td>\n",
       "      <td>chicken_KFC</td>\n",
       "      <td>22.36296</td>\n",
       "      <td>45067.0</td>\n",
       "    </tr>\n",
       "  </tbody>\n",
       "</table>\n",
       "</div>"
      ],
      "text/plain": [
       "                 date      address  temperature    light\n",
       "0   2024-1-26 8:56:34  chicken_KFC     21.89482  43802.0\n",
       "1   2024-1-26 9:11:36  chicken_KFC     23.76739  45115.0\n",
       "2  2024-1-26 10:41:21  chicken_KFC     22.36296  45067.0"
      ]
     },
     "execution_count": 16,
     "metadata": {},
     "output_type": "execute_result"
    }
   ],
   "source": [
    "import pandas as pd\n",
    "\n",
    "pd.DataFrame(data)"
   ]
  }
 ],
 "metadata": {
  "kernelspec": {
   "display_name": "venv",
   "language": "python",
   "name": "python3"
  },
  "language_info": {
   "codemirror_mode": {
    "name": "ipython",
    "version": 3
   },
   "file_extension": ".py",
   "mimetype": "text/x-python",
   "name": "python",
   "nbconvert_exporter": "python",
   "pygments_lexer": "ipython3",
   "version": "3.10.8"
  }
 },
 "nbformat": 4,
 "nbformat_minor": 2
}
